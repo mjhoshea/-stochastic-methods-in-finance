{
 "cells": [
  {
   "cell_type": "markdown",
   "id": "atomic-weather",
   "metadata": {},
   "source": [
    "# Risk-Neutral Valuation"
   ]
  },
  {
   "cell_type": "code",
   "execution_count": 3,
   "id": "civil-psychiatry",
   "metadata": {},
   "outputs": [],
   "source": [
    "import numpy as np"
   ]
  },
  {
   "cell_type": "code",
   "execution_count": 4,
   "id": "republican-rachel",
   "metadata": {},
   "outputs": [],
   "source": [
    "def risk_neutral_p(r, t, d, u):\n",
    "    return (np.exp(r*t) - d)/(u - d)"
   ]
  },
  {
   "cell_type": "code",
   "execution_count": 5,
   "id": "owned-population",
   "metadata": {},
   "outputs": [],
   "source": [
    "p = risk_neutral_p(0.07, 1/3, 0.95, 1.1)"
   ]
  },
  {
   "cell_type": "code",
   "execution_count": 6,
   "id": "alien-pursuit",
   "metadata": {},
   "outputs": [],
   "source": [
    "def prev_v(f_u, f_d, r,  t, p):\n",
    "    pv = p*f_u + (1-p)*f_d\n",
    "    return np.exp(-r*t)*pv"
   ]
  },
  {
   "cell_type": "code",
   "execution_count": 7,
   "id": "peaceful-shield",
   "metadata": {},
   "outputs": [],
   "source": [
    "f_u = prev_v(0, 7.3, 0.07, 1/3, p)"
   ]
  },
  {
   "cell_type": "code",
   "execution_count": 8,
   "id": "closed-patent",
   "metadata": {},
   "outputs": [],
   "source": [
    "f_d = prev_v(7.3, 15.85, 0.07, 1/3, p)"
   ]
  },
  {
   "cell_type": "code",
   "execution_count": 9,
   "id": "considerable-municipality",
   "metadata": {},
   "outputs": [
    {
     "data": {
      "text/plain": [
       "7.405927836340376"
      ]
     },
     "execution_count": 9,
     "metadata": {},
     "output_type": "execute_result"
    }
   ],
   "source": [
    "prev_v(f_u, f_d, 0.07, 1/3, p)"
   ]
  },
  {
   "cell_type": "code",
   "execution_count": 17,
   "id": "greek-denmark",
   "metadata": {},
   "outputs": [
    {
     "data": {
      "text/plain": [
       "8.385574872884332"
      ]
     },
     "execution_count": 17,
     "metadata": {},
     "output_type": "execute_result"
    }
   ],
   "source": [
    "prev_v(4, 13, 0.07, 1/3, p)"
   ]
  },
  {
   "cell_type": "markdown",
   "id": "rocky-collection",
   "metadata": {},
   "source": [
    "## 2017 Paper"
   ]
  },
  {
   "cell_type": "code",
   "execution_count": 33,
   "id": "alone-helen",
   "metadata": {},
   "outputs": [],
   "source": [
    "S0 = 100\n",
    "r = 0.03\n",
    "u = 1.4\n",
    "d = 0.6\n",
    "t = 5/12"
   ]
  },
  {
   "cell_type": "code",
   "execution_count": 36,
   "id": "specialized-warning",
   "metadata": {},
   "outputs": [
    {
     "data": {
      "text/plain": [
       "0.5157230644257931"
      ]
     },
     "execution_count": 36,
     "metadata": {},
     "output_type": "execute_result"
    }
   ],
   "source": [
    "p = risk_neutral_p(r, t, d, u)\n",
    "p"
   ]
  },
  {
   "cell_type": "code",
   "execution_count": 40,
   "id": "stunning-demonstration",
   "metadata": {},
   "outputs": [
    {
     "data": {
      "text/plain": [
       "21.043490638028867"
      ]
     },
     "execution_count": 40,
     "metadata": {},
     "output_type": "execute_result"
    }
   ],
   "source": [
    "f_u = prev_v(0, 44, r,  t, p)\n",
    "f_u"
   ]
  },
  {
   "cell_type": "code",
   "execution_count": 41,
   "id": "commercial-blanket",
   "metadata": {},
   "outputs": [
    {
     "data": {
      "text/plain": [
       "64.97517501062394"
      ]
     },
     "execution_count": 41,
     "metadata": {},
     "output_type": "execute_result"
    }
   ],
   "source": [
    "f_d = prev_v(44, 89, r,  t, p)\n",
    "f_d"
   ]
  },
  {
   "cell_type": "code",
   "execution_count": 42,
   "id": "compressed-guarantee",
   "metadata": {},
   "outputs": [
    {
     "data": {
      "text/plain": [
       "41.79290212646231"
      ]
     },
     "execution_count": 42,
     "metadata": {},
     "output_type": "execute_result"
    }
   ],
   "source": [
    "prev_v(f_u, f_d, r,  t, p)"
   ]
  },
  {
   "cell_type": "code",
   "execution_count": 31,
   "id": "assumed-dollar",
   "metadata": {},
   "outputs": [
    {
     "data": {
      "text/plain": [
       "36.16148212370082"
      ]
     },
     "execution_count": 31,
     "metadata": {},
     "output_type": "execute_result"
    }
   ],
   "source": [
    "# call\n",
    "prev_v(71, 0, r,  t, p)"
   ]
  },
  {
   "cell_type": "code",
   "execution_count": 32,
   "id": "robust-dryer",
   "metadata": {},
   "outputs": [
    {
     "data": {
      "text/plain": [
       "18.41764492088358"
      ]
     },
     "execution_count": 32,
     "metadata": {},
     "output_type": "execute_result"
    }
   ],
   "source": [
    "prev_v(36.16148212370082, 0, r,  t, p)"
   ]
  },
  {
   "cell_type": "markdown",
   "id": "imported-insured",
   "metadata": {},
   "source": [
    "## Hull Page 311"
   ]
  },
  {
   "cell_type": "code",
   "execution_count": 43,
   "id": "flexible-electronics",
   "metadata": {},
   "outputs": [],
   "source": [
    "S0 = 50\n",
    "r = 0.05\n",
    "u = 1.2\n",
    "d = 0.8\n",
    "t = 1"
   ]
  },
  {
   "cell_type": "code",
   "execution_count": 44,
   "id": "automatic-mobility",
   "metadata": {},
   "outputs": [
    {
     "data": {
      "text/plain": [
       "0.6281777409400603"
      ]
     },
     "execution_count": 44,
     "metadata": {},
     "output_type": "execute_result"
    }
   ],
   "source": [
    "p = risk_neutral_p(r, t, d, u)\n",
    "p"
   ]
  },
  {
   "cell_type": "code",
   "execution_count": 60,
   "id": "fossil-kennedy",
   "metadata": {},
   "outputs": [
    {
     "data": {
      "text/plain": [
       "1.4147530940085673"
      ]
     },
     "execution_count": 60,
     "metadata": {},
     "output_type": "execute_result"
    }
   ],
   "source": [
    "f_u = prev_v(0, 4, r,  t, p)\n",
    "f_u"
   ]
  },
  {
   "cell_type": "code",
   "execution_count": 61,
   "id": "jewish-oxide",
   "metadata": {},
   "outputs": [
    {
     "data": {
      "text/plain": [
       "9.463930074037126"
      ]
     },
     "execution_count": 61,
     "metadata": {},
     "output_type": "execute_result"
    }
   ],
   "source": [
    "f_d = prev_v(4, 20, r,  t, p)\n",
    "f_d"
   ]
  },
  {
   "cell_type": "code",
   "execution_count": 62,
   "id": "yellow-syndication",
   "metadata": {},
   "outputs": [
    {
     "data": {
      "text/plain": [
       "4.1926542806038585"
      ]
     },
     "execution_count": 62,
     "metadata": {},
     "output_type": "execute_result"
    }
   ],
   "source": [
    "f = prev_v(f_u, f_d, r,  t, p)\n",
    "f"
   ]
  }
 ],
 "metadata": {
  "kernelspec": {
   "display_name": "Python 3",
   "language": "python",
   "name": "python3"
  },
  "language_info": {
   "codemirror_mode": {
    "name": "ipython",
    "version": 3
   },
   "file_extension": ".py",
   "mimetype": "text/x-python",
   "name": "python",
   "nbconvert_exporter": "python",
   "pygments_lexer": "ipython3",
   "version": "3.8.7"
  }
 },
 "nbformat": 4,
 "nbformat_minor": 5
}
