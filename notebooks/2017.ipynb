{
 "cells": [
  {
   "cell_type": "markdown",
   "id": "reflected-routine",
   "metadata": {},
   "source": [
    "# A1"
   ]
  },
  {
   "cell_type": "code",
   "execution_count": 2,
   "id": "official-restoration",
   "metadata": {},
   "outputs": [],
   "source": [
    "def calc_der(S):\n",
    "    return S**4 - 3*S**2 - 7"
   ]
  },
  {
   "cell_type": "code",
   "execution_count": 3,
   "id": "democratic-occasion",
   "metadata": {},
   "outputs": [
    {
     "data": {
      "text/plain": [
       "103997"
      ]
     },
     "execution_count": 3,
     "metadata": {},
     "output_type": "execute_result"
    }
   ],
   "source": [
    "calc_der(18)"
   ]
  },
  {
   "cell_type": "code",
   "execution_count": 4,
   "id": "multiple-trademark",
   "metadata": {},
   "outputs": [
    {
     "data": {
      "text/plain": [
       "1181"
      ]
     },
     "execution_count": 4,
     "metadata": {},
     "output_type": "execute_result"
    }
   ],
   "source": [
    "calc_der(6)"
   ]
  },
  {
   "cell_type": "markdown",
   "id": "ordered-saturday",
   "metadata": {},
   "source": [
    "# A2"
   ]
  },
  {
   "cell_type": "code",
   "execution_count": 5,
   "id": "medieval-emphasis",
   "metadata": {},
   "outputs": [],
   "source": [
    "import numpy as np"
   ]
  },
  {
   "cell_type": "code",
   "execution_count": 6,
   "id": "powered-municipality",
   "metadata": {},
   "outputs": [],
   "source": [
    "def risk_neutral_p(r, t, d, u):\n",
    "    return (np.exp(r*t) - d)/(u - d)"
   ]
  },
  {
   "cell_type": "code",
   "execution_count": 7,
   "id": "bearing-palestinian",
   "metadata": {},
   "outputs": [],
   "source": [
    "def prev_v(f_u, f_d, r,  t, p):\n",
    "    pv = p*f_u + (1-p)*f_d\n",
    "    return np.exp(-r*t)*pv"
   ]
  },
  {
   "cell_type": "code",
   "execution_count": 8,
   "id": "stone-classics",
   "metadata": {},
   "outputs": [],
   "source": [
    "S0 = 100\n",
    "r = 0.03\n",
    "u = 1.4\n",
    "d = 0.6\n",
    "t = 5/12"
   ]
  },
  {
   "cell_type": "code",
   "execution_count": 9,
   "id": "likely-teens",
   "metadata": {},
   "outputs": [
    {
     "data": {
      "text/plain": [
       "0.5157230644257931"
      ]
     },
     "execution_count": 9,
     "metadata": {},
     "output_type": "execute_result"
    }
   ],
   "source": [
    "p = risk_neutral_p(r, t, d, u)\n",
    "p"
   ]
  },
  {
   "cell_type": "code",
   "execution_count": 10,
   "id": "nuclear-flood",
   "metadata": {},
   "outputs": [
    {
     "data": {
      "text/plain": [
       "21.043490638028867"
      ]
     },
     "execution_count": 10,
     "metadata": {},
     "output_type": "execute_result"
    }
   ],
   "source": [
    "f_u = prev_v(0, 44, r,  t, p)\n",
    "f_u"
   ]
  },
  {
   "cell_type": "code",
   "execution_count": 11,
   "id": "floral-format",
   "metadata": {},
   "outputs": [
    {
     "data": {
      "text/plain": [
       "64.97517501062394"
      ]
     },
     "execution_count": 11,
     "metadata": {},
     "output_type": "execute_result"
    }
   ],
   "source": [
    "f_d = prev_v(44, 89, r,  t, p)\n",
    "f_d"
   ]
  },
  {
   "cell_type": "code",
   "execution_count": 12,
   "id": "level-patch",
   "metadata": {},
   "outputs": [
    {
     "data": {
      "text/plain": [
       "41.79290212646231"
      ]
     },
     "execution_count": 12,
     "metadata": {},
     "output_type": "execute_result"
    }
   ],
   "source": [
    "f = prev_v(f_u, f_d, r,  t, p)\n",
    "f"
   ]
  },
  {
   "cell_type": "code",
   "execution_count": 101,
   "id": "useful-ivory",
   "metadata": {},
   "outputs": [
    {
     "data": {
      "text/plain": [
       "0.9006038579848944"
      ]
     },
     "execution_count": 101,
     "metadata": {},
     "output_type": "execute_result"
    }
   ],
   "source": [
    "norm.cdf(1.285)"
   ]
  },
  {
   "cell_type": "code",
   "execution_count": null,
   "id": "compliant-blast",
   "metadata": {},
   "outputs": [],
   "source": []
  }
 ],
 "metadata": {
  "kernelspec": {
   "display_name": "Python 3",
   "language": "python",
   "name": "python3"
  },
  "language_info": {
   "codemirror_mode": {
    "name": "ipython",
    "version": 3
   },
   "file_extension": ".py",
   "mimetype": "text/x-python",
   "name": "python",
   "nbconvert_exporter": "python",
   "pygments_lexer": "ipython3",
   "version": "3.8.7"
  }
 },
 "nbformat": 4,
 "nbformat_minor": 5
}
