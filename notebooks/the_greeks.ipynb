{
 "cells": [
  {
   "cell_type": "markdown",
   "id": "technical-conversion",
   "metadata": {},
   "source": [
    "# The Greeks"
   ]
  },
  {
   "cell_type": "markdown",
   "id": "digital-stable",
   "metadata": {},
   "source": [
    "## Gamma\n",
    "\n",
    "The gamma $\\Gamma$ of a portfolio of options on an underlying asset is the rate of change of the portfolios's delta with respect to the price of the underlying asset.\n",
    "\n",
    "$$\\Gamma = \\frac{\\partial^2 \\Pi}{\\partial S^2}$$\n",
    "\n",
    "**Example: calculating Gamma for a European option**\n",
    "\n",
    "$$\\Gamma = \\frac{N^{'}(d_1)}{S_0 \\sigma \\sqrt{T}}$$"
   ]
  },
  {
   "cell_type": "code",
   "execution_count": 8,
   "id": "impossible-slave",
   "metadata": {},
   "outputs": [],
   "source": [
    "import numpy as np\n",
    "from scipy.stats import norm\n",
    "\n",
    "def calc_d1(S0, K, r, σ, T):\n",
    "    num = np.log(S0/K) + (r + σ**2/2)*T\n",
    "    denom = σ*np.sqrt(T)\n",
    "    return num/denom\n",
    "\n",
    "def calc_gamma_option(S0, K, r, σ, T):\n",
    "    d1 = calc_d1(S0, K, r, σ, T)\n",
    "    return norm.pdf(d1)/(S0*σ*np.sqrt(T))"
   ]
  },
  {
   "cell_type": "code",
   "execution_count": 9,
   "id": "restricted-childhood",
   "metadata": {},
   "outputs": [
    {
     "data": {
      "text/plain": [
       "0.06554537725247868"
      ]
     },
     "execution_count": 9,
     "metadata": {},
     "output_type": "execute_result"
    }
   ],
   "source": [
    "S0 = 49\n",
    "K = 50\n",
    "r = 0.05\n",
    "σ = 0.2\n",
    "T = 0.3846\n",
    "calc_gamma_option(S0, K, r, σ, T)"
   ]
  },
  {
   "cell_type": "code",
   "execution_count": 10,
   "id": "unexpected-subcommittee",
   "metadata": {},
   "outputs": [
    {
     "data": {
      "text/plain": [
       "0.05766044301409245"
      ]
     },
     "execution_count": 10,
     "metadata": {},
     "output_type": "execute_result"
    }
   ],
   "source": [
    "S0 = 7\n",
    "K = 5\n",
    "r = 0\n",
    "σ = 0.7\n",
    "T = 1\n",
    "calc_gamma_option(S0, K, r, σ, T)"
   ]
  },
  {
   "cell_type": "code",
   "execution_count": null,
   "id": "employed-stomach",
   "metadata": {},
   "outputs": [],
   "source": []
  }
 ],
 "metadata": {
  "kernelspec": {
   "display_name": "Python 3",
   "language": "python",
   "name": "python3"
  },
  "language_info": {
   "codemirror_mode": {
    "name": "ipython",
    "version": 3
   },
   "file_extension": ".py",
   "mimetype": "text/x-python",
   "name": "python",
   "nbconvert_exporter": "python",
   "pygments_lexer": "ipython3",
   "version": "3.8.7"
  }
 },
 "nbformat": 4,
 "nbformat_minor": 5
}
