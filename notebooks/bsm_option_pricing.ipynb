{
 "cells": [
  {
   "cell_type": "code",
   "execution_count": 31,
   "id": "grave-dating",
   "metadata": {},
   "outputs": [],
   "source": [
    "import numpy as np\n",
    "from scipy.stats import norm"
   ]
  },
  {
   "cell_type": "code",
   "execution_count": 26,
   "id": "liked-japanese",
   "metadata": {},
   "outputs": [],
   "source": [
    "def calc_d1(S0, K, r, σ, T):\n",
    "    num = np.log(S0/K) + (r + σ**2/2)*T\n",
    "    denom = σ*np.sqrt(T)\n",
    "    return num/denom"
   ]
  },
  {
   "cell_type": "code",
   "execution_count": 27,
   "id": "advance-decrease",
   "metadata": {},
   "outputs": [],
   "source": [
    "def calc_d2(S0, K, r, σ, T):\n",
    "    d1 = cal_d1(S0, K, r, σ, T)\n",
    "    return d1 - σ*np.sqrt(T)"
   ]
  },
  {
   "cell_type": "code",
   "execution_count": 24,
   "id": "monetary-investor",
   "metadata": {},
   "outputs": [],
   "source": [
    "# Hull page 367\n",
    "S0 = 42\n",
    "K = 40\n",
    "r = 0.1\n",
    "σ = 0.2\n",
    "T = 0.5"
   ]
  },
  {
   "cell_type": "code",
   "execution_count": 28,
   "id": "charged-shield",
   "metadata": {},
   "outputs": [
    {
     "data": {
      "text/plain": [
       "0.7692626281060315"
      ]
     },
     "execution_count": 28,
     "metadata": {},
     "output_type": "execute_result"
    }
   ],
   "source": [
    "calc_d1(S0, K, r, σ, T)"
   ]
  },
  {
   "cell_type": "code",
   "execution_count": 29,
   "id": "formed-indianapolis",
   "metadata": {},
   "outputs": [
    {
     "data": {
      "text/plain": [
       "0.627841271868722"
      ]
     },
     "execution_count": 29,
     "metadata": {},
     "output_type": "execute_result"
    }
   ],
   "source": [
    "calc_d2(S0, K, r, σ, T)"
   ]
  },
  {
   "cell_type": "code",
   "execution_count": 33,
   "id": "timely-franchise",
   "metadata": {},
   "outputs": [],
   "source": [
    "def european_call(S0, K, r, σ, T):\n",
    "    d1 = calc_d1(S0, K, r, σ, T)\n",
    "    d2 = calc_d2(S0, K, r, σ, T)\n",
    "    discount = np.exp(-r*T)\n",
    "    return S0*norm.cdf(d1) - K*discount*norm.cdf(d2)"
   ]
  },
  {
   "cell_type": "code",
   "execution_count": 34,
   "id": "conservative-anniversary",
   "metadata": {},
   "outputs": [
    {
     "data": {
      "text/plain": [
       "4.759422392871532"
      ]
     },
     "execution_count": 34,
     "metadata": {},
     "output_type": "execute_result"
    }
   ],
   "source": [
    "european_call(S0, K, r, σ, T)"
   ]
  },
  {
   "cell_type": "code",
   "execution_count": 35,
   "id": "explicit-music",
   "metadata": {},
   "outputs": [],
   "source": [
    "def european_put(S0, K, r, σ, T):\n",
    "    d1 = calc_d1(S0, K, r, σ, T)\n",
    "    d2 = calc_d2(S0, K, r, σ, T)\n",
    "    discount = np.exp(-r*T)\n",
    "    return K*discount*norm.cdf(-d2) - S0*norm.cdf(-d1)"
   ]
  },
  {
   "cell_type": "code",
   "execution_count": 36,
   "id": "operating-immunology",
   "metadata": {},
   "outputs": [
    {
     "data": {
      "text/plain": [
       "0.8085993729000922"
      ]
     },
     "execution_count": 36,
     "metadata": {},
     "output_type": "execute_result"
    }
   ],
   "source": [
    "european_put(S0, K, r, σ, T)"
   ]
  },
  {
   "cell_type": "code",
   "execution_count": 37,
   "id": "veterinary-continuity",
   "metadata": {},
   "outputs": [],
   "source": [
    "# 2016 past paper\n",
    "S0 = 7\n",
    "K = 5\n",
    "r = 0\n",
    "σ = 0.7\n",
    "T = 1"
   ]
  },
  {
   "cell_type": "code",
   "execution_count": 39,
   "id": "derived-warren",
   "metadata": {},
   "outputs": [
    {
     "data": {
      "text/plain": [
       "2.8185306390371174"
      ]
     },
     "execution_count": 39,
     "metadata": {},
     "output_type": "execute_result"
    }
   ],
   "source": [
    "european_call(S0, K, r, σ, T)"
   ]
  },
  {
   "cell_type": "code",
   "execution_count": 40,
   "id": "designed-laugh",
   "metadata": {},
   "outputs": [
    {
     "data": {
      "text/plain": [
       "1.9156291164586676"
      ]
     },
     "execution_count": 40,
     "metadata": {},
     "output_type": "execute_result"
    }
   ],
   "source": [
    "european_put(S0, 7, r, σ, T)"
   ]
  },
  {
   "cell_type": "code",
   "execution_count": 41,
   "id": "veterinary-oklahoma",
   "metadata": {},
   "outputs": [
    {
     "data": {
      "text/plain": [
       "0.9029015225784498"
      ]
     },
     "execution_count": 41,
     "metadata": {},
     "output_type": "execute_result"
    }
   ],
   "source": [
    "european_call(S0, K, r, σ, T) - european_put(S0, 7, r, σ, T)"
   ]
  },
  {
   "cell_type": "code",
   "execution_count": 42,
   "id": "objective-maldives",
   "metadata": {},
   "outputs": [],
   "source": [
    "def u_value(x, S0, r, T):\n",
    "    num = np.log(x/S0) + (r - σ**2/2)*T\n",
    "    denom = σ*np.sqrt(T)\n",
    "    return num/denom"
   ]
  },
  {
   "cell_type": "code",
   "execution_count": 48,
   "id": "rotary-transparency",
   "metadata": {},
   "outputs": [
    {
     "data": {
      "text/plain": [
       "0.08123149312641618"
      ]
     },
     "execution_count": 48,
     "metadata": {},
     "output_type": "execute_result"
    }
   ],
   "source": [
    "x = 5\n",
    "u = u_value(x, S0, r, T)\n",
    "0.4*norm.cdf(u)"
   ]
  },
  {
   "cell_type": "code",
   "execution_count": 52,
   "id": "incorporated-sapphire",
   "metadata": {},
   "outputs": [
    {
     "data": {
      "text/plain": [
       "-0.7969212671839596"
      ]
     },
     "execution_count": 52,
     "metadata": {},
     "output_type": "execute_result"
    }
   ],
   "source": [
    "x = 7\n",
    "u_value(x, S0, r, T)\n",
    "-(1 - norm.cdf(u))"
   ]
  },
  {
   "cell_type": "code",
   "execution_count": 47,
   "id": "noble-green",
   "metadata": {},
   "outputs": [
    {
     "data": {
      "text/plain": [
       "0.2032693918280684"
      ]
     },
     "execution_count": 47,
     "metadata": {},
     "output_type": "execute_result"
    }
   ],
   "source": [
    "norm.cdf(-0.83)"
   ]
  },
  {
   "cell_type": "code",
   "execution_count": 54,
   "id": "conceptual-pierre",
   "metadata": {},
   "outputs": [],
   "source": [
    "def calc_gamma(S0, K, r, σ, T):\n",
    "    d1 = cal_d1(S0, K, r, σ, T)\n",
    "    return norm.pdf(d1)/(S0*σ*np.sqrt(T))"
   ]
  },
  {
   "cell_type": "code",
   "execution_count": 55,
   "id": "extreme-video",
   "metadata": {},
   "outputs": [
    {
     "data": {
      "text/plain": [
       "0.05766044301409245"
      ]
     },
     "execution_count": 55,
     "metadata": {},
     "output_type": "execute_result"
    }
   ],
   "source": [
    "K = 5\n",
    "calc_gamma(S0, K, r, σ, T)"
   ]
  },
  {
   "cell_type": "code",
   "execution_count": null,
   "id": "occasional-bottom",
   "metadata": {},
   "outputs": [],
   "source": []
  },
  {
   "cell_type": "code",
   "execution_count": null,
   "id": "affecting-fancy",
   "metadata": {},
   "outputs": [],
   "source": []
  },
  {
   "cell_type": "code",
   "execution_count": null,
   "id": "included-calcium",
   "metadata": {},
   "outputs": [],
   "source": []
  },
  {
   "cell_type": "code",
   "execution_count": 57,
   "id": "raised-architecture",
   "metadata": {},
   "outputs": [
    {
     "data": {
      "text/plain": [
       "0.39305226648388264"
      ]
     },
     "execution_count": 57,
     "metadata": {},
     "output_type": "execute_result"
    }
   ],
   "source": [
    "np.exp(\n",
    "np.log(0.25) + (0.15 - ((0.35**2)/2) )*0.5  + (0.35*np.sqrt(0.5)*1.649)\n",
    ")"
   ]
  },
  {
   "cell_type": "code",
   "execution_count": 58,
   "id": "sitting-personality",
   "metadata": {},
   "outputs": [
    {
     "data": {
      "text/plain": [
       "10686474581524.463"
      ]
     },
     "execution_count": 58,
     "metadata": {},
     "output_type": "execute_result"
    }
   ],
   "source": [
    "np.exp((9/2)*(4**2)*(5/12))"
   ]
  },
  {
   "cell_type": "code",
   "execution_count": 59,
   "id": "reduced-situation",
   "metadata": {},
   "outputs": [
    {
     "data": {
      "text/plain": [
       "5.017468205617528e-05"
      ]
     },
     "execution_count": 59,
     "metadata": {},
     "output_type": "execute_result"
    }
   ],
   "source": [
    "np.exp(3*(0.08 - (4**2 / 2))*(5/12))"
   ]
  },
  {
   "cell_type": "code",
   "execution_count": 60,
   "id": "immediate-kuwait",
   "metadata": {},
   "outputs": [
    {
     "data": {
      "text/plain": [
       "656833318926.0012"
      ]
     },
     "execution_count": 60,
     "metadata": {},
     "output_type": "execute_result"
    }
   ],
   "source": [
    "(35**2)*np.exp((9/2)*(4**2)*(5/12))*np.exp(3*(0.08 - (4**2 / 2))*(5/12))"
   ]
  },
  {
   "cell_type": "code",
   "execution_count": null,
   "id": "fatty-moore",
   "metadata": {},
   "outputs": [],
   "source": []
  }
 ],
 "metadata": {
  "kernelspec": {
   "display_name": "Python 3",
   "language": "python",
   "name": "python3"
  },
  "language_info": {
   "codemirror_mode": {
    "name": "ipython",
    "version": 3
   },
   "file_extension": ".py",
   "mimetype": "text/x-python",
   "name": "python",
   "nbconvert_exporter": "python",
   "pygments_lexer": "ipython3",
   "version": "3.8.7"
  }
 },
 "nbformat": 4,
 "nbformat_minor": 5
}
