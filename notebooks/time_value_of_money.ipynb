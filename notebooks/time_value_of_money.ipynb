{
 "cells": [
  {
   "cell_type": "code",
   "execution_count": 54,
   "metadata": {},
   "outputs": [],
   "source": [
    "from math import log, exp"
   ]
  },
  {
   "cell_type": "markdown",
   "metadata": {},
   "source": [
    "# Time Value of Money"
   ]
  },
  {
   "cell_type": "code",
   "execution_count": 12,
   "metadata": {},
   "outputs": [],
   "source": [
    "def future_value_discrete(pv, r, n):\n",
    "    return pv*(1+r)**n"
   ]
  },
  {
   "cell_type": "code",
   "execution_count": 35,
   "metadata": {},
   "outputs": [
    {
     "data": {
      "text/plain": [
       "1610.5100000000004"
      ]
     },
     "execution_count": 35,
     "metadata": {},
     "output_type": "execute_result"
    }
   ],
   "source": [
    "future_value_discrete(1000, 0.1, 5)"
   ]
  },
  {
   "cell_type": "code",
   "execution_count": 38,
   "metadata": {},
   "outputs": [],
   "source": [
    "def precent_value_discrete(fv, r, n):\n",
    "    return fv*(1+r)**-n"
   ]
  },
  {
   "cell_type": "code",
   "execution_count": 40,
   "metadata": {},
   "outputs": [
    {
     "data": {
      "text/plain": [
       "999.9999999999995"
      ]
     },
     "execution_count": 40,
     "metadata": {},
     "output_type": "execute_result"
    }
   ],
   "source": [
    "precent_value_discrete(1610.51, 0.1, 5)"
   ]
  },
  {
   "cell_type": "code",
   "execution_count": 41,
   "metadata": {},
   "outputs": [],
   "source": [
    "def time_to_future_value(pv, fv, r):\n",
    "    return log(fv/pv)/log((1+r))"
   ]
  },
  {
   "cell_type": "code",
   "execution_count": 42,
   "metadata": {},
   "outputs": [
    {
     "data": {
      "text/plain": [
       "15.000708059400564"
      ]
     },
     "execution_count": 42,
     "metadata": {},
     "output_type": "execute_result"
    }
   ],
   "source": [
    "time_to_future_value(500 ,1039.50, 0.05)"
   ]
  },
  {
   "cell_type": "code",
   "execution_count": 52,
   "metadata": {},
   "outputs": [],
   "source": [
    "def future_value_continuous(pv, r, years):\n",
    "    return pv*exp(r*years)"
   ]
  },
  {
   "cell_type": "code",
   "execution_count": 53,
   "metadata": {},
   "outputs": [
    {
     "data": {
      "text/plain": [
       "1000.0000000000001"
      ]
     },
     "execution_count": 53,
     "metadata": {},
     "output_type": "execute_result"
    }
   ],
   "source": [
    "future_value_continuous(786.6278610665535, 0.03, 8)"
   ]
  },
  {
   "cell_type": "code",
   "execution_count": 50,
   "metadata": {},
   "outputs": [],
   "source": [
    "def precent_value_continuous(pv, r, years):\n",
    "    return pv*exp(-r*years)"
   ]
  },
  {
   "cell_type": "code",
   "execution_count": 51,
   "metadata": {},
   "outputs": [
    {
     "data": {
      "text/plain": [
       "786.6278610665535"
      ]
     },
     "execution_count": 51,
     "metadata": {},
     "output_type": "execute_result"
    }
   ],
   "source": [
    "precent_value_continuous(1000, 0.03, 8)"
   ]
  },
  {
   "cell_type": "markdown",
   "metadata": {},
   "source": [
    "# Bond Valuation"
   ]
  },
  {
   "cell_type": "code",
   "execution_count": 56,
   "metadata": {},
   "outputs": [],
   "source": [
    "def calc_coupon(principle, coupon_perc, coupon_freq):\n",
    "    return principle*(coupon_perc/coupon_freq)"
   ]
  },
  {
   "cell_type": "code",
   "execution_count": 59,
   "metadata": {},
   "outputs": [
    {
     "data": {
      "text/plain": [
       "50.0"
      ]
     },
     "execution_count": 59,
     "metadata": {},
     "output_type": "execute_result"
    }
   ],
   "source": [
    "calc_coupon(1000, 0.1, 2)"
   ]
  },
  {
   "cell_type": "code",
   "execution_count": 102,
   "metadata": {},
   "outputs": [],
   "source": [
    "def value_bond(principle, coupon_perc, coupon_freq, r, T, verbose=True):\n",
    "    ts = coupon_freq*T\n",
    "    t_ratio = 1/coupon_freq\n",
    "    coupon = calc_coupon(principle, coupon_perc, coupon_freq)\n",
    "    pv = 0\n",
    "    for t in range(1, ts+1):\n",
    "        if(t == 1):\n",
    "            pv += principle*exp(-T*r)\n",
    "        pv+=coupon*exp(-t_ratio*t*r)\n",
    "        if(verbose):\n",
    "            print(\"Month {}, Discounted Coupon {}\".format(t_ratio*t, coupon*exp(-t_ratio*t*r)))\n",
    "    return pv"
   ]
  },
  {
   "cell_type": "code",
   "execution_count": 103,
   "metadata": {},
   "outputs": [
    {
     "name": "stdout",
     "output_type": "stream",
     "text": [
      "Month 0.5, Discounted Coupon 48.03947195761616\n",
      "Month 1.0, Discounted Coupon 46.15581731933179\n",
      "Month 1.5, Discounted Coupon 44.346021835857876\n",
      "Month 2.0, Discounted Coupon 42.607189448310564\n",
      "Month 2.5, Discounted Coupon 40.936537653899094\n",
      "Month 3.0, Discounted Coupon 39.33139305332767\n",
      "Month 3.5, Discounted Coupon 37.78918707278628\n",
      "Month 4.0, Discounted Coupon 36.30745185368455\n",
      "Month 4.5, Discounted Coupon 34.883816303551555\n",
      "Month 5.0, Discounted Coupon 33.51600230178197\n"
     ]
    },
    {
     "data": {
      "text/plain": [
       "1074.2329348357869"
      ]
     },
     "execution_count": 103,
     "metadata": {},
     "output_type": "execute_result"
    }
   ],
   "source": [
    "value_bond(1000, 0.1, 2, 0.08, 5)"
   ]
  },
  {
   "cell_type": "code",
   "execution_count": null,
   "metadata": {},
   "outputs": [],
   "source": []
  },
  {
   "cell_type": "code",
   "execution_count": 63,
   "metadata": {},
   "outputs": [
    {
     "ename": "SyntaxError",
     "evalue": "invalid syntax (<ipython-input-63-e41fde3b7ab2>, line 1)",
     "output_type": "error",
     "traceback": [
      "\u001b[0;36m  File \u001b[0;32m\"<ipython-input-63-e41fde3b7ab2>\"\u001b[0;36m, line \u001b[0;32m1\u001b[0m\n\u001b[0;31m    [1::5]\u001b[0m\n\u001b[0m      ^\u001b[0m\n\u001b[0;31mSyntaxError\u001b[0m\u001b[0;31m:\u001b[0m invalid syntax\n"
     ]
    }
   ],
   "source": []
  },
  {
   "cell_type": "code",
   "execution_count": null,
   "metadata": {},
   "outputs": [],
   "source": []
  }
 ],
 "metadata": {
  "kernelspec": {
   "display_name": "Python 3",
   "language": "python",
   "name": "python3"
  },
  "language_info": {
   "codemirror_mode": {
    "name": "ipython",
    "version": 3
   },
   "file_extension": ".py",
   "mimetype": "text/x-python",
   "name": "python",
   "nbconvert_exporter": "python",
   "pygments_lexer": "ipython3",
   "version": "3.8.7"
  }
 },
 "nbformat": 4,
 "nbformat_minor": 4
}
