{
 "cells": [
  {
   "cell_type": "markdown",
   "id": "breathing-remainder",
   "metadata": {},
   "source": [
    "# A Process For A Stock Prics\n",
    "\n",
    "## Geometric Brownian Motion\n",
    "\n",
    "A first guess at an appropriate process for model for a stock price could be that of generalised Brownian motion given by\n",
    "\n",
    "$$dS = \\mu dt + \\sigma dz$$\n",
    "\n",
    "this model implies that a change in the stock price will be given by\n",
    "\n",
    "$$\\Delta S = S_{t + \\Delta t} - S_t = \\mu \\Delta t + \\sigma \\epsilon \\sqrt{\\Delta t}$$\n",
    "\n",
    "the expected increase is given by $\\mu \\Delta t$. **This seems wrong, the growth in a stock price should be related to the size of the stock price**. We therfore model the percentage changes as following generalised Brownian motion.\n",
    "\n",
    "$$ \\frac{\\Delta S}{S} = \\frac{S_{t + \\Delta t} - S_t}{S_t} = \\mu \\Delta t + \\sigma \\Delta z$$\n",
    "\n",
    "rearanging and we arive at the equation for the Geometric Brownian motion of a stock price.\n",
    "\n",
    "$$dS = \\mu S dt + \\sigma S dz$$"
   ]
  },
  {
   "cell_type": "markdown",
   "id": "wrong-appraisal",
   "metadata": {},
   "source": [
    "## The Lognormal Property\n",
    "\n",
    "We may use Itô's lemma to establish how the logarithm of price changes behvaes. Recall that Itô's lemma is given by\n",
    "\n",
    "$$\\partial G = \\left(\\mu S \\frac{\\partial G}{\\partial S} + \\frac{\\partial G}{\\partial t} + \\frac{1}{2} \\sigma^2 S^2\\frac{\\partial^2 G}{\\partial S^2} \\right) dt + \\sigma S \\frac{\\partial G}{\\partial s}dz $$\n",
    "\n",
    "If we consider a the transformation $$G = \\ln S$$\n",
    "\n",
    "then we have the following \n",
    "\n",
    "$$ \\frac{\\partial G}{\\partial S} = \\frac{1}{S} \\text{ , }  \\frac{\\partial G}{\\partial t} = 0 \\text{ , } \\frac{\\partial^2 G}{\\partial S^2} = -\\frac{1}{S^2}$$\n",
    "\n",
    "resulting in the following differential equation \n",
    "\n",
    "$$ \\partial ln S = \\left( \\mu - \\frac{\\sigma^2}{2} \\right)dt + \\sigma dz $$\n",
    "\n",
    "thus the logarithm of a stock price follows a generalised Wiener process with \n",
    "\n",
    "$$\\text{drift} = \\mu - \\frac{\\sigma^2}{2} \\text{ , } \\text{var rate} = \\sigma^2$$\n",
    "\n",
    "meaning that changes in price are distributed acording to\n",
    "\n",
    "$$ ln\\frac{S_{T}}{S_0} \\sim \\mathcal{N}\\left[ \\left(\\mu - \\frac{\\sigma^2}{2} \\right)T,  \\sigma^2 T\\right] $$"
   ]
  },
  {
   "cell_type": "markdown",
   "id": "assured-wrist",
   "metadata": {},
   "source": [
    "## Estimating $\\mu$ and $\\sigma$"
   ]
  },
  {
   "cell_type": "code",
   "execution_count": 38,
   "id": "attached-turtle",
   "metadata": {},
   "outputs": [],
   "source": [
    "import numpy as n\n",
    "from statistics import variance"
   ]
  },
  {
   "cell_type": "code",
   "execution_count": 5,
   "id": "guided-purse",
   "metadata": {},
   "outputs": [],
   "source": [
    "prices = np.array([136.05, 134.34, 134.2, 133.55, 134.9, 139.5, 137.5, 136.4, 136.697, 137.143, 137.838])"
   ]
  },
  {
   "cell_type": "code",
   "execution_count": 12,
   "id": "electoral-sacramento",
   "metadata": {},
   "outputs": [],
   "source": [
    "df = pd.DataFrame()"
   ]
  },
  {
   "cell_type": "code",
   "execution_count": 13,
   "id": "excited-alberta",
   "metadata": {},
   "outputs": [],
   "source": [
    "df['prices'] = prices"
   ]
  },
  {
   "cell_type": "code",
   "execution_count": 21,
   "id": "widespread-shower",
   "metadata": {},
   "outputs": [],
   "source": [
    "df['ratio'] = df['prices'][0:]/df['prices'].shift(1)"
   ]
  },
  {
   "cell_type": "code",
   "execution_count": 24,
   "id": "sudden-samoa",
   "metadata": {},
   "outputs": [],
   "source": [
    "df['log_ratio'] = np.log(df['ratio'])"
   ]
  },
  {
   "cell_type": "code",
   "execution_count": 143,
   "id": "compound-horror",
   "metadata": {},
   "outputs": [
    {
     "data": {
      "text/html": [
       "<div>\n",
       "<style scoped>\n",
       "    .dataframe tbody tr th:only-of-type {\n",
       "        vertical-align: middle;\n",
       "    }\n",
       "\n",
       "    .dataframe tbody tr th {\n",
       "        vertical-align: top;\n",
       "    }\n",
       "\n",
       "    .dataframe thead th {\n",
       "        text-align: right;\n",
       "    }\n",
       "</style>\n",
       "<table border=\"1\" class=\"dataframe\">\n",
       "  <thead>\n",
       "    <tr style=\"text-align: right;\">\n",
       "      <th></th>\n",
       "      <th>prices</th>\n",
       "      <th>ratio</th>\n",
       "      <th>log_ratio</th>\n",
       "    </tr>\n",
       "  </thead>\n",
       "  <tbody>\n",
       "    <tr>\n",
       "      <th>0</th>\n",
       "      <td>136.050</td>\n",
       "      <td>NaN</td>\n",
       "      <td>NaN</td>\n",
       "    </tr>\n",
       "    <tr>\n",
       "      <th>1</th>\n",
       "      <td>134.340</td>\n",
       "      <td>0.987431</td>\n",
       "      <td>-0.012649</td>\n",
       "    </tr>\n",
       "    <tr>\n",
       "      <th>2</th>\n",
       "      <td>134.200</td>\n",
       "      <td>0.998958</td>\n",
       "      <td>-0.001043</td>\n",
       "    </tr>\n",
       "    <tr>\n",
       "      <th>3</th>\n",
       "      <td>133.550</td>\n",
       "      <td>0.995156</td>\n",
       "      <td>-0.004855</td>\n",
       "    </tr>\n",
       "    <tr>\n",
       "      <th>4</th>\n",
       "      <td>134.900</td>\n",
       "      <td>1.010109</td>\n",
       "      <td>0.010058</td>\n",
       "    </tr>\n",
       "    <tr>\n",
       "      <th>5</th>\n",
       "      <td>139.500</td>\n",
       "      <td>1.034099</td>\n",
       "      <td>0.033531</td>\n",
       "    </tr>\n",
       "    <tr>\n",
       "      <th>6</th>\n",
       "      <td>137.500</td>\n",
       "      <td>0.985663</td>\n",
       "      <td>-0.014441</td>\n",
       "    </tr>\n",
       "    <tr>\n",
       "      <th>7</th>\n",
       "      <td>136.400</td>\n",
       "      <td>0.992000</td>\n",
       "      <td>-0.008032</td>\n",
       "    </tr>\n",
       "    <tr>\n",
       "      <th>8</th>\n",
       "      <td>136.697</td>\n",
       "      <td>1.002177</td>\n",
       "      <td>0.002175</td>\n",
       "    </tr>\n",
       "    <tr>\n",
       "      <th>9</th>\n",
       "      <td>137.143</td>\n",
       "      <td>1.003263</td>\n",
       "      <td>0.003257</td>\n",
       "    </tr>\n",
       "    <tr>\n",
       "      <th>10</th>\n",
       "      <td>137.838</td>\n",
       "      <td>1.005068</td>\n",
       "      <td>0.005055</td>\n",
       "    </tr>\n",
       "  </tbody>\n",
       "</table>\n",
       "</div>"
      ],
      "text/plain": [
       "     prices     ratio  log_ratio\n",
       "0   136.050       NaN        NaN\n",
       "1   134.340  0.987431  -0.012649\n",
       "2   134.200  0.998958  -0.001043\n",
       "3   133.550  0.995156  -0.004855\n",
       "4   134.900  1.010109   0.010058\n",
       "5   139.500  1.034099   0.033531\n",
       "6   137.500  0.985663  -0.014441\n",
       "7   136.400  0.992000  -0.008032\n",
       "8   136.697  1.002177   0.002175\n",
       "9   137.143  1.003263   0.003257\n",
       "10  137.838  1.005068   0.005055"
      ]
     },
     "execution_count": 143,
     "metadata": {},
     "output_type": "execute_result"
    }
   ],
   "source": [
    "df"
   ]
  },
  {
   "cell_type": "code",
   "execution_count": 217,
   "id": "eligible-kruger",
   "metadata": {},
   "outputs": [
    {
     "data": {
      "text/plain": [
       "0.0013056617308833396"
      ]
     },
     "execution_count": 217,
     "metadata": {},
     "output_type": "execute_result"
    }
   ],
   "source": [
    "x̄ = np.mean(df['log_ratio'][1:])\n",
    "x̄"
   ]
  },
  {
   "cell_type": "code",
   "execution_count": 218,
   "id": "horizontal-image",
   "metadata": {},
   "outputs": [],
   "source": [
    "var = variance(df['log_ratio'][1:])"
   ]
  },
  {
   "cell_type": "markdown",
   "id": "consolidated-equality",
   "metadata": {},
   "source": [
    "### Yearly variance \n",
    "\n",
    "We have been given daily data. It is usual to ignore non-trading days so we multiply by 252 in order to get the yearly values"
   ]
  },
  {
   "cell_type": "code",
   "execution_count": 225,
   "id": "impossible-absolute",
   "metadata": {},
   "outputs": [],
   "source": [
    "x̄_yr = 252*x̄\n",
    "σ_yr = (252*var)**0.5"
   ]
  },
  {
   "cell_type": "markdown",
   "id": "paperback-great",
   "metadata": {},
   "source": [
    "### Calculating $\\mu$\n",
    "\n",
    "We calculated the empirical drift which we proved can be decomposed into two components such that\n",
    "\n",
    "$$\\mu = \\bar{x} + \\frac{\\sigma^2}{2}$$"
   ]
  },
  {
   "cell_type": "code",
   "execution_count": 226,
   "id": "second-equivalent",
   "metadata": {},
   "outputs": [
    {
     "data": {
      "text/plain": [
       "0.35292502421458877"
      ]
     },
     "execution_count": 226,
     "metadata": {},
     "output_type": "execute_result"
    }
   ],
   "source": [
    "μ_yr = x̄_yr + (σ_yr**2/2)\n",
    "μ_yr"
   ]
  },
  {
   "cell_type": "markdown",
   "id": "checked-matrix",
   "metadata": {},
   "source": [
    "### Calculating a confidence interval on the next timestep\n",
    "\n",
    "We can use the following to derive a confidence interval\n",
    "\n",
    "$$ \\ln S_{11} \\sim \\mathcal{N}\\left[\\ln S_{10} + \\left(\\mu - \\frac{\\sigma^2}{2} \\right)\\tau,  \\sigma^2 \\tau\\right] $$\n",
    "\n",
    "where $\\tau$ is $\\frac{1}{252}$ and summary statistics are anualised. Plugging in the numbers we have \n",
    "\n",
    "$$ \\ln S_{11} \\sim \\mathcal{N}\\left[4.926 + \\left(0.353 - 0.0239 \\right)\\frac{1}{252},  0.0478*\\frac{1}{252} \\right] $$\n",
    "\n",
    "\n",
    "$$ \\ln S_{11} \\sim \\mathcal{N}\\left[4.92731,  0.00018967 \\right] $$"
   ]
  },
  {
   "cell_type": "code",
   "execution_count": 227,
   "id": "stretch-feature",
   "metadata": {},
   "outputs": [
    {
     "name": "stdout",
     "output_type": "stream",
     "text": [
      "4.926079082538089\n",
      "0.023898268031987184\n",
      "0.00018966879390466018\n"
     ]
    }
   ],
   "source": [
    "print(np.log(df['prices'][10]))\n",
    "print((σ_yr**2)/2)\n",
    "print((σ_yr**2)/252)"
   ]
  },
  {
   "cell_type": "code",
   "execution_count": 228,
   "id": "duplicate-assembly",
   "metadata": {},
   "outputs": [],
   "source": [
    "avg_s = 4.926 + ((μ_yr-(σ_yr**2)/2)/252)\n",
    "std_s = ((σ_yr**2)/252)**0.5"
   ]
  },
  {
   "cell_type": "code",
   "execution_count": 229,
   "id": "operating-brave",
   "metadata": {},
   "outputs": [
    {
     "data": {
      "text/plain": [
       "142.97928752678177"
      ]
     },
     "execution_count": 229,
     "metadata": {},
     "output_type": "execute_result"
    }
   ],
   "source": [
    "np.exp(avg_s + 2.57*std_s)"
   ]
  },
  {
   "cell_type": "code",
   "execution_count": 230,
   "id": "tribal-directive",
   "metadata": {},
   "outputs": [
    {
     "data": {
      "text/plain": [
       "133.20796400717478"
      ]
     },
     "execution_count": 230,
     "metadata": {},
     "output_type": "execute_result"
    }
   ],
   "source": [
    "np.exp(avg_s - 2.57*std_s)"
   ]
  }
 ],
 "metadata": {
  "kernelspec": {
   "display_name": "Python 3",
   "language": "python",
   "name": "python3"
  },
  "language_info": {
   "codemirror_mode": {
    "name": "ipython",
    "version": 3
   },
   "file_extension": ".py",
   "mimetype": "text/x-python",
   "name": "python",
   "nbconvert_exporter": "python",
   "pygments_lexer": "ipython3",
   "version": "3.8.7"
  }
 },
 "nbformat": 4,
 "nbformat_minor": 5
}
