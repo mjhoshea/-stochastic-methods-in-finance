{
 "cells": [
  {
   "cell_type": "code",
   "execution_count": 7,
   "id": "willing-visitor",
   "metadata": {},
   "outputs": [],
   "source": [
    "from scipy.stats import norm\n",
    "import numpy as np"
   ]
  },
  {
   "cell_type": "code",
   "execution_count": 5,
   "id": "spectacular-protection",
   "metadata": {},
   "outputs": [
    {
     "data": {
      "text/plain": [
       "0.6638523694708927"
      ]
     },
     "execution_count": 5,
     "metadata": {},
     "output_type": "execute_result"
    }
   ],
   "source": [
    "norm.cdf(0.423)"
   ]
  },
  {
   "cell_type": "code",
   "execution_count": 6,
   "id": "flush-venture",
   "metadata": {},
   "outputs": [
    {
     "data": {
      "text/plain": [
       "0.6098775876176978"
      ]
     },
     "execution_count": 6,
     "metadata": {},
     "output_type": "execute_result"
    }
   ],
   "source": [
    "norm.cdf(0.279)"
   ]
  },
  {
   "cell_type": "code",
   "execution_count": 9,
   "id": "collectible-sentence",
   "metadata": {},
   "outputs": [
    {
     "data": {
      "text/plain": [
       "28.52067216082691"
      ]
     },
     "execution_count": 9,
     "metadata": {},
     "output_type": "execute_result"
    }
   ],
   "source": [
    "29*np.exp(-(0.05/3))"
   ]
  },
  {
   "cell_type": "code",
   "execution_count": 10,
   "id": "decimal-thickness",
   "metadata": {},
   "outputs": [
    {
     "data": {
      "text/plain": [
       "24.56630589162683"
      ]
     },
     "execution_count": 10,
     "metadata": {},
     "output_type": "execute_result"
    }
   ],
   "source": [
    "25*np.exp(-(0.07/4))"
   ]
  },
  {
   "cell_type": "code",
   "execution_count": null,
   "id": "reliable-conservation",
   "metadata": {},
   "outputs": [],
   "source": []
  }
 ],
 "metadata": {
  "kernelspec": {
   "display_name": "Python 3",
   "language": "python",
   "name": "python3"
  },
  "language_info": {
   "codemirror_mode": {
    "name": "ipython",
    "version": 3
   },
   "file_extension": ".py",
   "mimetype": "text/x-python",
   "name": "python",
   "nbconvert_exporter": "python",
   "pygments_lexer": "ipython3",
   "version": "3.8.7"
  }
 },
 "nbformat": 4,
 "nbformat_minor": 5
}
